{
  "nbformat": 4,
  "nbformat_minor": 0,
  "metadata": {
    "colab": {
      "name": "mobinlife image hadler",
      "provenance": [],
      "mount_file_id": "1jCcpKrz1Cl1AXuPWOZ_SHlQszPIM-IEO",
      "authorship_tag": "ABX9TyMe7vx9wgdZbGlW8g3TqUKa",
      "include_colab_link": true
    },
    "kernelspec": {
      "name": "python3",
      "display_name": "Python 3"
    },
    "language_info": {
      "name": "python"
    }
  },
  "cells": [
    {
      "cell_type": "markdown",
      "metadata": {
        "id": "view-in-github",
        "colab_type": "text"
      },
      "source": [
        "<a href=\"https://colab.research.google.com/github/JhosefMatheus/AudioVideoConverter/blob/master/mobinlife%20image%20hadler.ipynb\" target=\"_parent\"><img src=\"https://colab.research.google.com/assets/colab-badge.svg\" alt=\"Open In Colab\"/></a>"
      ]
    },
    {
      "cell_type": "markdown",
      "source": [
        "#Problema:"
      ],
      "metadata": {
        "id": "VflPsfY1NEOa"
      }
    },
    {
      "cell_type": "markdown",
      "source": [
        "Tarefa:\n",
        "\n",
        "> de um vídeo, extrair as informações do valor de uma ação."
      ],
      "metadata": {
        "id": "WM6IDOJdNuPF"
      }
    },
    {
      "cell_type": "markdown",
      "source": [
        "\n",
        "\n",
        "1.   Separar uma pequena parte do vídeo (+/- 10 segundos);\n",
        "2.   Extrair as informações desejadas;\n",
        "3.   Quando o texto mudar de cor (cinza), iremos identificar a parte que mudou pra cinza e extrair o texto dessa parte e colocá-lo numa lista;\n",
        "4.   Ao final transformar a informação num json.\n",
        "\n"
      ],
      "metadata": {
        "id": "kE0vdP3BNIJE"
      }
    },
    {
      "cell_type": "markdown",
      "source": [
        "Observações:\n",
        "\n",
        "> O frame não muda assim que a informação muda, tratar esse problema, pois pode acarretar em dados duplicados. Para resolver esse problema, vamos adicionar apenas quando o anterior não for igual ao valor que está sendo analisado.\n",
        "\n"
      ],
      "metadata": {
        "id": "4wRceJmrQYlA"
      }
    },
    {
      "cell_type": "markdown",
      "source": [
        "#Links:"
      ],
      "metadata": {
        "id": "vhmVuaOVScH2"
      }
    },
    {
      "cell_type": "markdown",
      "source": [
        "\n",
        "\n",
        "> 1.   https://professor.luzerna.ifc.edu.br/ricardo-antonello/wp-content/uploads/sites/8/2017/02/Livro-Introdu%C3%A7%C3%A3o-a-Vis%C3%A3o-Computacional-com-Python-e-OpenCV.pdf\n",
        "2.   https://www.youtube.com/results?search_query=opencv+findcontours+from+certain+color\n",
        "3.   https://learnopencv.com/contour-detection-using-opencv-python-c/\n",
        "4.   https://stackoverflow.com/questions/45095734/python-finding-contours-of-different-colors-on-an-image\n",
        "\n"
      ],
      "metadata": {
        "id": "YNxvvePTSypN"
      }
    }
  ]
}